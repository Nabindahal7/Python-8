{
 "cells": [
  {
   "cell_type": "code",
   "execution_count": null,
   "id": "571b7ba4-f2e2-4f52-a664-4904411a84c2",
   "metadata": {},
   "outputs": [],
   "source": []
  }
 ],
 "metadata": {
  "kernelspec": {
   "display_name": "",
   "name": ""
  },
  "language_info": {
   "name": ""
  }
 },
 "nbformat": 4,
 "nbformat_minor": 5
}
