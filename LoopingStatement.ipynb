{
 "cells": [
  {
   "cell_type": "markdown",
   "id": "1793363c-4056-4fac-a2b4-9916d0d98b24",
   "metadata": {},
   "source": [
    "# Fundamentals"
   ]
  },
  {
   "cell_type": "code",
   "execution_count": 4,
   "id": "4f2b3e9d-96cd-4bd2-9947-c28e53600b03",
   "metadata": {},
   "outputs": [
    {
     "name": "stdout",
     "output_type": "stream",
     "text": [
      "24\n"
     ]
    }
   ],
   "source": [
    "print (20+4)"
   ]
  },
  {
   "cell_type": "code",
   "execution_count": 3,
   "id": "7302a927-c421-4307-bcc5-4f679cfe8ccd",
   "metadata": {},
   "outputs": [
    {
     "name": "stdout",
     "output_type": "stream",
     "text": [
      "hello\n"
     ]
    }
   ],
   "source": [
    "print (\"hello\")"
   ]
  },
  {
   "cell_type": "code",
   "execution_count": 7,
   "id": "33bd629a-e9b5-4994-9a34-16ccb405dd06",
   "metadata": {},
   "outputs": [
    {
     "name": "stdin",
     "output_type": "stream",
     "text": [
      "enter how many timens :  5\n"
     ]
    },
    {
     "name": "stdout",
     "output_type": "stream",
     "text": [
      "Broadway\n",
      "Broadway\n",
      "Broadway\n",
      "Broadway\n",
      "Broadway\n",
      "Out\n"
     ]
    }
   ],
   "source": [
    "start = None\n",
    "stop = None\n",
    "value = \"Broadway\"\n",
    "\n",
    "\n",
    "# input\n",
    "stop = input (\"enter how many timens : \")\n",
    "# process\n",
    "\n",
    "start=1 # Start\n",
    "stop=int(stop) # Stop\n",
    "while (start<=stop) : # condition\n",
    "    print (value) # statement (s)\n",
    "    start+=1 # modifer\n",
    "print(\"Out\")"
   ]
  },
  {
   "cell_type": "markdown",
   "id": "85767a4f-4a2c-48f9-b891-4e8f494ae4bf",
   "metadata": {},
   "source": [
    "# Looping Statement"
   ]
  },
  {
   "cell_type": "markdown",
   "id": "3fb6fe4a-65c9-42bd-91da-898b566b6ed4",
   "metadata": {},
   "source": [
    "## while loop"
   ]
  },
  {
   "cell_type": "code",
   "execution_count": 4,
   "id": "6ac99c0d-4458-43b5-9781-2a045d5f941e",
   "metadata": {},
   "outputs": [
    {
     "name": "stdout",
     "output_type": "stream",
     "text": [
      "1\n",
      "2\n",
      "3\n",
      "4\n",
      "5\n",
      "6\n",
      "7\n",
      "8\n",
      "9\n",
      "10\n"
     ]
    }
   ],
   "source": [
    "# Example loop\n",
    "# print 1 to 10\n",
    "start_no = 1\n",
    "stop_no = 10\n",
    "while start_no<=stop_no :\n",
    "    print(start_no)\n",
    "    start_no+=1"
   ]
  },
  {
   "cell_type": "code",
   "execution_count": null,
   "id": "46a06f23-3e42-4e36-b6ae-25d3ba635bc0",
   "metadata": {},
   "outputs": [],
   "source": [
    "# Example loop\n",
    "# print 10 to 1\n",
    "start_no = 10\n",
    "stop_no = 1\n",
    "while start_no>=stop_no :\n",
    "    print(start_no)\n",
    "    start_no-=1"
   ]
  },
  {
   "cell_type": "markdown",
   "id": "a51243fd-3db2-4bb0-8961-ec305dd560af",
   "metadata": {},
   "source": [
    "## for loop"
   ]
  },
  {
   "cell_type": "code",
   "execution_count": 11,
   "id": "580b3593-e94b-4796-b8a1-7fef2d9dc13d",
   "metadata": {},
   "outputs": [
    {
     "name": "stdout",
     "output_type": "stream",
     "text": [
      "1\n",
      "2\n",
      "3\n",
      "4\n",
      "5\n",
      "6\n",
      "7\n",
      "8\n",
      "9\n",
      "10\n"
     ]
    }
   ],
   "source": [
    "# print 1 to 10\n",
    "\n",
    "for n in range (1,11) :\n",
    "    print(n)"
   ]
  },
  {
   "cell_type": "code",
   "execution_count": 14,
   "id": "7a0917ad-25bd-465c-8b05-6ce6ee6ad42e",
   "metadata": {},
   "outputs": [
    {
     "name": "stdout",
     "output_type": "stream",
     "text": [
      "10\n",
      "9\n",
      "8\n",
      "7\n",
      "6\n",
      "5\n",
      "4\n",
      "3\n",
      "2\n",
      "1\n"
     ]
    }
   ],
   "source": [
    "# print 10 to 1\n",
    "Result = None\n",
    "for n in range (10, 0, -1) :\n",
    "    print(n)\n"
   ]
  },
  {
   "cell_type": "code",
   "execution_count": 16,
   "id": "6a2e1be8-bc0b-43f9-8a17-151cda93e8ec",
   "metadata": {},
   "outputs": [
    {
     "name": "stdout",
     "output_type": "stream",
     "text": [
      "55\n",
      "5.5\n"
     ]
    }
   ],
   "source": [
    "# print sum, average of 1 to 10\n",
    "total = 0\n",
    "average = 0\n",
    "\n",
    "for n in range (1, 11, 1):\n",
    "    total+=n\n",
    "average=total/10\n",
    "print(total)\n",
    "print(average)"
   ]
  },
  {
   "cell_type": "code",
   "execution_count": 37,
   "id": "9c386c84-6949-459d-861d-50873aa21f73",
   "metadata": {},
   "outputs": [
    {
     "name": "stdout",
     "output_type": "stream",
     "text": [
      "1 : 1\n",
      "1 : 13\n",
      "1 : 25\n",
      "1 : 37\n",
      "1 : 49\n",
      "13 : 1\n",
      "13 : 13\n",
      "13 : 25\n",
      "13 : 37\n",
      "13 : 49\n",
      "25 : 1\n",
      "25 : 13\n",
      "25 : 25\n",
      "25 : 37\n",
      "25 : 49\n",
      "37 : 1\n",
      "37 : 13\n",
      "37 : 25\n",
      "37 : 37\n",
      "37 : 49\n",
      "49 : 1\n",
      "49 : 13\n",
      "49 : 25\n",
      "49 : 37\n",
      "49 : 49\n"
     ]
    }
   ],
   "source": [
    "# Nested Loop\n",
    "for i in range(1, 61, 12) :\n",
    "    for j in range(1, 61, 12):\n",
    "        print(i,\":\", j)"
   ]
  },
  {
   "cell_type": "code",
   "execution_count": 28,
   "id": "8c07dbfe-50f6-421f-bc90-a98d4f6bd48c",
   "metadata": {},
   "outputs": [
    {
     "name": "stdout",
     "output_type": "stream",
     "text": [
      "array('i', [5, 6, 7, 4, 3])\n"
     ]
    }
   ],
   "source": [
    "# Array with loop\n",
    "from array import array\n",
    "arr1 = array('i',[5,6,7,4,3])\n",
    "print(arr1)\n"
   ]
  },
  {
   "cell_type": "code",
   "execution_count": 36,
   "id": "0c00327d-9ece-4caf-9b01-99fdb6ad68bc",
   "metadata": {},
   "outputs": [
    {
     "name": "stdout",
     "output_type": "stream",
     "text": [
      "5\n",
      "6\n",
      "7\n",
      "4\n",
      "3\n",
      "0\n",
      "0.0\n"
     ]
    }
   ],
   "source": [
    "# for loop with array\n",
    "total = 0\n",
    "average = 0\n",
    "for i in range(0, len(arr1), 1) :\n",
    "    total+arr1[i]\n",
    "    print(arr1[i])\n",
    "average = total/len(arr1)\n",
    "print(total)\n",
    "print(average)\n",
    "    "
   ]
  },
  {
   "cell_type": "code",
   "execution_count": 39,
   "id": "636bf189-38f5-45b9-818c-4aa4728fb96f",
   "metadata": {},
   "outputs": [],
   "source": [
    "# find smallest element of an array.\n",
    "# find largest elelement of an array\n",
    "min_element = min(arr1)\n",
    "min_element = max(arr1)\n"
   ]
  },
  {
   "cell_type": "code",
   "execution_count": 41,
   "id": "ac800186-4dab-47ce-9467-77a76819f9df",
   "metadata": {},
   "outputs": [
    {
     "ename": "KeyboardInterrupt",
     "evalue": "Interrupted by user",
     "output_type": "error",
     "traceback": [
      "\u001b[1;31m---------------------------------------------------------------------------\u001b[0m",
      "\u001b[1;31mKeyboardInterrupt\u001b[0m                         Traceback (most recent call last)",
      "Input \u001b[1;32mIn [41]\u001b[0m, in \u001b[0;36m<cell line: 2>\u001b[1;34m()\u001b[0m\n\u001b[0;32m      1\u001b[0m \u001b[38;5;66;03m# Search a number within an array\u001b[39;00m\n\u001b[1;32m----> 2\u001b[0m n \u001b[38;5;241m=\u001b[39m \u001b[38;5;28;43minput\u001b[39;49m\u001b[43m(\u001b[49m\u001b[38;5;124;43m\"\u001b[39;49m\u001b[38;5;124;43mEnter any no : \u001b[39;49m\u001b[38;5;124;43m\"\u001b[39;49m\u001b[43m)\u001b[49m\n\u001b[0;32m      3\u001b[0m n \u001b[38;5;241m=\u001b[39m \u001b[38;5;28mint\u001b[39m(n)\n",
      "File \u001b[1;32m~\\AppData\\Local\\Programs\\Python\\Python310\\lib\\site-packages\\ipykernel\\kernelbase.py:1161\u001b[0m, in \u001b[0;36mKernel.raw_input\u001b[1;34m(self, prompt)\u001b[0m\n\u001b[0;32m   1157\u001b[0m \u001b[38;5;28;01mif\u001b[39;00m \u001b[38;5;129;01mnot\u001b[39;00m \u001b[38;5;28mself\u001b[39m\u001b[38;5;241m.\u001b[39m_allow_stdin:\n\u001b[0;32m   1158\u001b[0m     \u001b[38;5;28;01mraise\u001b[39;00m StdinNotImplementedError(\n\u001b[0;32m   1159\u001b[0m         \u001b[38;5;124m\"\u001b[39m\u001b[38;5;124mraw_input was called, but this frontend does not support input requests.\u001b[39m\u001b[38;5;124m\"\u001b[39m\n\u001b[0;32m   1160\u001b[0m     )\n\u001b[1;32m-> 1161\u001b[0m \u001b[38;5;28;01mreturn\u001b[39;00m \u001b[38;5;28;43mself\u001b[39;49m\u001b[38;5;241;43m.\u001b[39;49m\u001b[43m_input_request\u001b[49m\u001b[43m(\u001b[49m\n\u001b[0;32m   1162\u001b[0m \u001b[43m    \u001b[49m\u001b[38;5;28;43mstr\u001b[39;49m\u001b[43m(\u001b[49m\u001b[43mprompt\u001b[49m\u001b[43m)\u001b[49m\u001b[43m,\u001b[49m\n\u001b[0;32m   1163\u001b[0m \u001b[43m    \u001b[49m\u001b[38;5;28;43mself\u001b[39;49m\u001b[38;5;241;43m.\u001b[39;49m\u001b[43m_parent_ident\u001b[49m\u001b[43m[\u001b[49m\u001b[38;5;124;43m\"\u001b[39;49m\u001b[38;5;124;43mshell\u001b[39;49m\u001b[38;5;124;43m\"\u001b[39;49m\u001b[43m]\u001b[49m\u001b[43m,\u001b[49m\n\u001b[0;32m   1164\u001b[0m \u001b[43m    \u001b[49m\u001b[38;5;28;43mself\u001b[39;49m\u001b[38;5;241;43m.\u001b[39;49m\u001b[43mget_parent\u001b[49m\u001b[43m(\u001b[49m\u001b[38;5;124;43m\"\u001b[39;49m\u001b[38;5;124;43mshell\u001b[39;49m\u001b[38;5;124;43m\"\u001b[39;49m\u001b[43m)\u001b[49m\u001b[43m,\u001b[49m\n\u001b[0;32m   1165\u001b[0m \u001b[43m    \u001b[49m\u001b[43mpassword\u001b[49m\u001b[38;5;241;43m=\u001b[39;49m\u001b[38;5;28;43;01mFalse\u001b[39;49;00m\u001b[43m,\u001b[49m\n\u001b[0;32m   1166\u001b[0m \u001b[43m\u001b[49m\u001b[43m)\u001b[49m\n",
      "File \u001b[1;32m~\\AppData\\Local\\Programs\\Python\\Python310\\lib\\site-packages\\ipykernel\\kernelbase.py:1205\u001b[0m, in \u001b[0;36mKernel._input_request\u001b[1;34m(self, prompt, ident, parent, password)\u001b[0m\n\u001b[0;32m   1202\u001b[0m             \u001b[38;5;28;01mbreak\u001b[39;00m\n\u001b[0;32m   1203\u001b[0m \u001b[38;5;28;01mexcept\u001b[39;00m \u001b[38;5;167;01mKeyboardInterrupt\u001b[39;00m:\n\u001b[0;32m   1204\u001b[0m     \u001b[38;5;66;03m# re-raise KeyboardInterrupt, to truncate traceback\u001b[39;00m\n\u001b[1;32m-> 1205\u001b[0m     \u001b[38;5;28;01mraise\u001b[39;00m \u001b[38;5;167;01mKeyboardInterrupt\u001b[39;00m(\u001b[38;5;124m\"\u001b[39m\u001b[38;5;124mInterrupted by user\u001b[39m\u001b[38;5;124m\"\u001b[39m) \u001b[38;5;28;01mfrom\u001b[39;00m \u001b[38;5;28mNone\u001b[39m\n\u001b[0;32m   1206\u001b[0m \u001b[38;5;28;01mexcept\u001b[39;00m \u001b[38;5;167;01mException\u001b[39;00m:\n\u001b[0;32m   1207\u001b[0m     \u001b[38;5;28mself\u001b[39m\u001b[38;5;241m.\u001b[39mlog\u001b[38;5;241m.\u001b[39mwarning(\u001b[38;5;124m\"\u001b[39m\u001b[38;5;124mInvalid Message:\u001b[39m\u001b[38;5;124m\"\u001b[39m, exc_info\u001b[38;5;241m=\u001b[39m\u001b[38;5;28;01mTrue\u001b[39;00m)\n",
      "\u001b[1;31mKeyboardInterrupt\u001b[0m: Interrupted by user"
     ]
    }
   ],
   "source": [
    "# Search a number within an array\n",
    "n = input(\"Enter any no : \")\n",
    "n = int(n)\n",
    "# Search wihin an array ?\n",
    "\n"
   ]
  },
  {
   "cell_type": "code",
   "execution_count": 46,
   "id": "e222edd8-0b88-4534-92fa-54ebb9c872d2",
   "metadata": {},
   "outputs": [
    {
     "ename": "IndentationError",
     "evalue": "unexpected indent (4241056671.py, line 5)",
     "output_type": "error",
     "traceback": [
      "\u001b[1;36m  Input \u001b[1;32mIn [46]\u001b[1;36m\u001b[0m\n\u001b[1;33m    for i in range(0, len(arr1), 1) :\u001b[0m\n\u001b[1;37m    ^\u001b[0m\n\u001b[1;31mIndentationError\u001b[0m\u001b[1;31m:\u001b[0m unexpected indent\n"
     ]
    }
   ],
   "source": [
    "\n",
    "# Search a number within an array\n",
    "n = input(\"Enter any no : \")\n",
    "n = int(n)\n",
    "# Search wihin an array ?\n",
    " for i in range(0, len(arr1), 1) :\n",
    "        if arr1[i] == n:\n",
    "            print(\"Found at \", i, \"index\")\n",
    "            break\n",
    "\n"
   ]
  },
  {
   "cell_type": "code",
   "execution_count": 47,
   "id": "7511dfe0-580b-44c3-8686-640994fc9e64",
   "metadata": {},
   "outputs": [
    {
     "name": "stdout",
     "output_type": "stream",
     "text": [
      "0\n",
      "1\n",
      "2\n",
      "3\n",
      "4\n",
      "6\n",
      "7\n",
      "8\n",
      "9\n",
      "10\n"
     ]
    }
   ],
   "source": [
    "# continue statement\n",
    "for n in range(11) :\n",
    "    if (n == 5):\n",
    "        continue\n",
    "    print(n)"
   ]
  },
  {
   "cell_type": "code",
   "execution_count": null,
   "id": "369aa1b6-7e3e-4e23-8bd6-6cfdcaaebc74",
   "metadata": {},
   "outputs": [],
   "source": []
  }
 ],
 "metadata": {
  "kernelspec": {
   "display_name": "Python 3 (ipykernel)",
   "language": "python",
   "name": "python3"
  },
  "language_info": {
   "codemirror_mode": {
    "name": "ipython",
    "version": 3
   },
   "file_extension": ".py",
   "mimetype": "text/x-python",
   "name": "python",
   "nbconvert_exporter": "python",
   "pygments_lexer": "ipython3",
   "version": "3.10.4"
  }
 },
 "nbformat": 4,
 "nbformat_minor": 5
}
