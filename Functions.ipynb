{
 "cells": [
  {
   "cell_type": "markdown",
   "id": "b6c5eb61-d7c4-4af1-b99b-51eeedde6cd5",
   "metadata": {},
   "source": [
    "# Fuction"
   ]
  },
  {
   "cell_type": "code",
   "execution_count": null,
   "id": "3813662b-f523-4e18-8005-e029b8a2dabf",
   "metadata": {},
   "outputs": [],
   "source": []
  },
  {
   "cell_type": "code",
   "execution_count": null,
   "id": "7824e3f9-4869-48cb-96d6-8409414a21d0",
   "metadata": {},
   "outputs": [],
   "source": []
  },
  {
   "cell_type": "code",
   "execution_count": null,
   "id": "5ab68a25-abcd-4170-8bec-38e495de9a8e",
   "metadata": {},
   "outputs": [],
   "source": [
    "#Fuction\n",
    "# Why fuction ?\n",
    "# Whire once, use many"
   ]
  },
  {
   "cell_type": "code",
   "execution_count": null,
   "id": "e7ba36f8-48e5-4f33-8ff9-f7d4ddadf01e",
   "metadata": {},
   "outputs": [],
   "source": [
    "Print()\n",
    "max()\n",
    "min ()\n",
    "type ()\n",
    "input ()\n"
   ]
  },
  {
   "cell_type": "code",
   "execution_count": null,
   "id": "2898c171-e61d-4411-87d8-f26a309fb38c",
   "metadata": {},
   "outputs": [],
   "source": [
    "# grouping statement in one block\n",
    "# to perform specific task\n",
    "\n",
    "#sum, diff, prd, div, rem, sqrt, pow and others\n",
    "# input, process, ouput\n",
    "# Write one file, record from file\n",
    "# Save on database, and retrieve from database"
   ]
  },
  {
   "cell_type": "code",
   "execution_count": 3,
   "id": "4a3cda77-7ede-440c-bc39-33e1715b863a",
   "metadata": {},
   "outputs": [],
   "source": [
    "# How to create a fuction\n",
    "def function_name() :\n",
    "    # Stetements\n",
    "    pass\n",
    "def f1() :\n",
    "    print(\"Hello from Broadway\")\n",
    "    \n"
   ]
  },
  {
   "cell_type": "code",
   "execution_count": 9,
   "id": "acd015a3-288f-4064-8057-568c20b7502e",
   "metadata": {},
   "outputs": [
    {
     "name": "stdout",
     "output_type": "stream",
     "text": [
      "Hello from Broadway\n",
      "Hello from Broadway\n",
      "Hello from Broadway\n",
      "Hello from Broadway\n",
      "Hello from Broadway\n",
      "Hello from Broadway\n",
      "Hello from Broadway\n",
      "Hello from Broadway\n",
      "Hello from Broadway\n",
      "Hello from Broadway\n"
     ]
    }
   ],
   "source": [
    "# Calling function\n",
    "# f1()\n",
    "for i in range(10):\n",
    "    f1()"
   ]
  },
  {
   "cell_type": "code",
   "execution_count": 13,
   "id": "a0380a8d-328a-4f7c-8f6b-b2c4366e443e",
   "metadata": {},
   "outputs": [],
   "source": [
    "def calc_sum(n1, n2) :\n",
    "    print (n1+n2)"
   ]
  },
  {
   "cell_type": "code",
   "execution_count": 12,
   "id": "4ced0ce4-f9e0-4164-ac81-db32fea13d83",
   "metadata": {},
   "outputs": [
    {
     "name": "stdout",
     "output_type": "stream",
     "text": [
      "23\n"
     ]
    }
   ],
   "source": [
    "calc_sum()"
   ]
  },
  {
   "cell_type": "code",
   "execution_count": 16,
   "id": "ee23e823-c401-41f6-b38c-2be07426d850",
   "metadata": {},
   "outputs": [
    {
     "name": "stdout",
     "output_type": "stream",
     "text": [
      "12\n"
     ]
    },
    {
     "name": "stdin",
     "output_type": "stream",
     "text": [
      "Enter First no. : 10\n",
      "Enter Second no. :  12\n"
     ]
    },
    {
     "name": "stdout",
     "output_type": "stream",
     "text": [
      "22\n"
     ]
    }
   ],
   "source": [
    "num1 = 5\n",
    "num2 = 7\n",
    "\n",
    "calc_sum(num1, num2) \n",
    "\n"
   ]
  },
  {
   "cell_type": "code",
   "execution_count": 17,
   "id": "d8bb7636-4513-4c7e-be75-ec6a7884cedd",
   "metadata": {},
   "outputs": [
    {
     "name": "stdin",
     "output_type": "stream",
     "text": [
      "Enter First no. : 10\n",
      "Enter Second no. :  20\n"
     ]
    },
    {
     "name": "stdout",
     "output_type": "stream",
     "text": [
      "30\n"
     ]
    }
   ],
   "source": [
    "num1 = input(\"Enter First no. :\")\n",
    "num2 = input (\"Enter Second no. : \")\n",
    "num1 =int(num1)\n",
    "num2 = int(num2)\n",
    "calc_sum(num1, num2) "
   ]
  },
  {
   "cell_type": "code",
   "execution_count": 21,
   "id": "aa98cf7d-0b00-4631-b453-bce44e7fe22d",
   "metadata": {},
   "outputs": [],
   "source": [
    "def calc_sum2(n1,n2) :\n",
    "    return n1+n2"
   ]
  },
  {
   "cell_type": "code",
   "execution_count": 23,
   "id": "9785d033-ac02-41fc-bbd3-7fec14d6fa44",
   "metadata": {},
   "outputs": [
    {
     "name": "stdin",
     "output_type": "stream",
     "text": [
      "Enter First no. : 10\n",
      "Enter Second no. :  20\n"
     ]
    },
    {
     "name": "stdout",
     "output_type": "stream",
     "text": [
      "30\n"
     ]
    }
   ],
   "source": [
    "num1 = input(\"Enter First no. :\")\n",
    "num2 = input (\"Enter Second no. : \")\n",
    "num1 =int(num1)\n",
    "num2 = int(num2)\n",
    "res =calc_sum2(num1,num2)\n",
    "print(res)"
   ]
  },
  {
   "cell_type": "code",
   "execution_count": 24,
   "id": "7015f283-82ba-4c84-a20a-cc3dc6e6524c",
   "metadata": {},
   "outputs": [
    {
     "ename": "SyntaxError",
     "evalue": "invalid syntax (102233160.py, line 5)",
     "output_type": "error",
     "traceback": [
      "\u001b[1;36m  Input \u001b[1;32mIn [24]\u001b[1;36m\u001b[0m\n\u001b[1;33m    retunr n1+n2\u001b[0m\n\u001b[1;37m           ^\u001b[0m\n\u001b[1;31mSyntaxError\u001b[0m\u001b[1;31m:\u001b[0m invalid syntax\n"
     ]
    }
   ],
   "source": [
    "def print_message(message):\n",
    "    print(message)\n",
    "    \n",
    "def calc_sum(n2, n2):\n",
    "    retunr n1+n2"
   ]
  },
  {
   "cell_type": "code",
   "execution_count": 26,
   "id": "0e9d4ea7-2eec-4a05-a0bd-e2339662171c",
   "metadata": {},
   "outputs": [],
   "source": [
    "\n",
    "def print_message(message):\n",
    "    print(message)\n",
    "    \n",
    "def calc_sum(n1, n2):\n",
    "    return n1+n2"
   ]
  },
  {
   "cell_type": "code",
   "execution_count": null,
   "id": "e7ea65c8-ed3d-4aea-9e58-e8bf5355b0fb",
   "metadata": {},
   "outputs": [],
   "source": [
    "task#6\n",
    "    # Enter id : _1\n",
    "    # Enter name :_Raj\n",
    "    # Enter Sub1: _56\n",
    "    # Enter sub2 : _54\n",
    "    # Enter Sub3 : _45\n",
    "    # Total : 155\n",
    "    # Average :51.xxx\n",
    "    # Result : PASS\n",
    "# Create fuctions to solve the\n",
    "# Result processing system.\n",
    "\n",
    "\n"
   ]
  },
  {
   "cell_type": "code",
   "execution_count": 7,
   "id": "de97fa58-3ffc-4ebb-a1de-7c06c24794cd",
   "metadata": {},
   "outputs": [],
   "source": [
    "def Total_Marks (a,b,c):\n",
    "    return(a+b+c)\n",
    "def Average_Marks() :\n",
    "     return((a+b+c)/3)\n",
    "\n",
    "    \n",
    "    "
   ]
  },
  {
   "cell_type": "code",
   "execution_count": 5,
   "id": "d3d91a7e-eaaa-47f4-b5a1-22671e08869b",
   "metadata": {},
   "outputs": [
    {
     "name": "stdin",
     "output_type": "stream",
     "text": [
      "Enter Id : 1\n",
      "Enter Name :  ram\n",
      "Enter Subjet_1 Mark :  10\n",
      "Enter Subjet_2 Mark :  20\n",
      "Enter Subjet_3 Mark :  30\n"
     ]
    },
    {
     "ename": "TypeError",
     "evalue": "Average_Marks() takes 0 positional arguments but 3 were given",
     "output_type": "error",
     "traceback": [
      "\u001b[1;31m---------------------------------------------------------------------------\u001b[0m",
      "\u001b[1;31mTypeError\u001b[0m                                 Traceback (most recent call last)",
      "Input \u001b[1;32mIn [5]\u001b[0m, in \u001b[0;36m<cell line: 7>\u001b[1;34m()\u001b[0m\n\u001b[0;32m      5\u001b[0m num3 \u001b[38;5;241m=\u001b[39m \u001b[38;5;28mint\u001b[39m(\u001b[38;5;28minput\u001b[39m(\u001b[38;5;124m\"\u001b[39m\u001b[38;5;124mEnter Subjet_3 Mark : \u001b[39m\u001b[38;5;124m\"\u001b[39m))\n\u001b[0;32m      6\u001b[0m Total_Marks(num1, num2, num3)\n\u001b[1;32m----> 7\u001b[0m \u001b[43mAverage_Marks\u001b[49m\u001b[43m(\u001b[49m\u001b[43mnum1\u001b[49m\u001b[43m,\u001b[49m\u001b[43m \u001b[49m\u001b[43mnum2\u001b[49m\u001b[43m,\u001b[49m\u001b[43m \u001b[49m\u001b[43mnum3\u001b[49m\u001b[43m)\u001b[49m\n",
      "\u001b[1;31mTypeError\u001b[0m: Average_Marks() takes 0 positional arguments but 3 were given"
     ]
    }
   ],
   "source": [
    "input(\"Enter Id :\" )\n",
    "input(\"Enter Name : \")\n",
    "num1 = int(input(\"Enter Subjet_1 Mark : \"))\n",
    "num2 = int(input(\"Enter Subjet_2 Mark : \"))\n",
    "num3 = int(input(\"Enter Subjet_3 Mark : \"))\n",
    "Total_Marks(num1, num2, num3)\n",
    "Average_Marks(num1, num2, num3)\n"
   ]
  },
  {
   "cell_type": "code",
   "execution_count": 9,
   "id": "c4e6ad65-d75f-46e6-a28e-b47e6bf71125",
   "metadata": {},
   "outputs": [],
   "source": [
    "# Function\n",
    "def f1():\n",
    "    print(\"Hello from f1\")\n",
    "\n",
    "def f2(num1, num2) :\n",
    "    print(num1+num2)\n",
    "    \n",
    "def f3() :\n",
    "    return 10+3\n",
    "\n",
    "def f4(num1, num2) :\n",
    "    return num1+num2\n",
    "\n",
    "    "
   ]
  },
  {
   "cell_type": "code",
   "execution_count": 10,
   "id": "a1d126d4-baf6-4280-965e-cfe993abe8f5",
   "metadata": {},
   "outputs": [
    {
     "name": "stdout",
     "output_type": "stream",
     "text": [
      "Hello from f1\n"
     ]
    }
   ],
   "source": [
    "f1()"
   ]
  },
  {
   "cell_type": "code",
   "execution_count": 22,
   "id": "93435630-9e95-4bc7-9154-94c80fbe41ff",
   "metadata": {},
   "outputs": [
    {
     "name": "stdout",
     "output_type": "stream",
     "text": [
      "6\n",
      "6\n"
     ]
    }
   ],
   "source": [
    "\n",
    "f2(2,4)\n",
    "f2(2,4)"
   ]
  },
  {
   "cell_type": "code",
   "execution_count": 19,
   "id": "2718d921-57ff-4db4-80c5-d8f459c011e6",
   "metadata": {},
   "outputs": [
    {
     "name": "stdout",
     "output_type": "stream",
     "text": [
      "13\n"
     ]
    }
   ],
   "source": [
    "var1=f3()\n",
    "print(var1)"
   ]
  },
  {
   "cell_type": "code",
   "execution_count": 25,
   "id": "ff95928c-6dec-4421-9353-60ca1af4fdd8",
   "metadata": {},
   "outputs": [
    {
     "name": "stdout",
     "output_type": "stream",
     "text": [
      "11\n"
     ]
    }
   ],
   "source": [
    "num1=5\n",
    "num2=6\n",
    "result=f4(num1,num2)\n",
    "print(result)"
   ]
  },
  {
   "cell_type": "code",
   "execution_count": 29,
   "id": "e72465a2-421d-4077-aa9a-d7fa9e5808cd",
   "metadata": {},
   "outputs": [],
   "source": [
    "def f5(num1=0,num2=0):\n",
    "    return num1+num2\n",
    "\n"
   ]
  },
  {
   "cell_type": "code",
   "execution_count": 46,
   "id": "634af608-5c31-443c-8367-cc924724643f",
   "metadata": {},
   "outputs": [
    {
     "name": "stdout",
     "output_type": "stream",
     "text": [
      "15\n"
     ]
    }
   ],
   "source": [
    "res1=f5(num1=7,num2=8)\n",
    "\n",
    "print(res1)\n"
   ]
  },
  {
   "cell_type": "code",
   "execution_count": 51,
   "id": "bd026f7c-cf38-4632-a2ca-8f8832e5adfe",
   "metadata": {},
   "outputs": [
    {
     "name": "stdout",
     "output_type": "stream",
     "text": [
      "3\n"
     ]
    }
   ],
   "source": [
    "Res2=f5(num1=2,num2=5)\n",
    "\n",
    "print(res)"
   ]
  },
  {
   "cell_type": "code",
   "execution_count": 49,
   "id": "f37ad6b5-478d-46da-880d-94cc2fbb3119",
   "metadata": {},
   "outputs": [
    {
     "name": "stdout",
     "output_type": "stream",
     "text": [
      "3\n"
     ]
    }
   ],
   "source": [
    "res=f5(num1=3)\n",
    "print(res)"
   ]
  },
  {
   "cell_type": "code",
   "execution_count": null,
   "id": "dee94714-3166-4fba-99be-8d9e2c08b419",
   "metadata": {},
   "outputs": [],
   "source": []
  },
  {
   "cell_type": "code",
   "execution_count": 43,
   "id": "be135366-a30d-4d71-8f90-84ab96c38ee8",
   "metadata": {},
   "outputs": [
    {
     "name": "stdout",
     "output_type": "stream",
     "text": [
      "100\n"
     ]
    }
   ],
   "source": [
    "res=f5(num2=100)\n",
    "print(res)"
   ]
  },
  {
   "cell_type": "code",
   "execution_count": null,
   "id": "f1db75b3-5746-4fc8-a164-4f36de288ad7",
   "metadata": {},
   "outputs": [],
   "source": []
  }
 ],
 "metadata": {
  "kernelspec": {
   "display_name": "Python 3 (ipykernel)",
   "language": "python",
   "name": "python3"
  },
  "language_info": {
   "codemirror_mode": {
    "name": "ipython",
    "version": 3
   },
   "file_extension": ".py",
   "mimetype": "text/x-python",
   "name": "python",
   "nbconvert_exporter": "python",
   "pygments_lexer": "ipython3",
   "version": "3.10.4"
  }
 },
 "nbformat": 4,
 "nbformat_minor": 5
}
