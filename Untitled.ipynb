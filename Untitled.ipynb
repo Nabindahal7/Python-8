{
 "cells": [
  {
   "cell_type": "code",
   "execution_count": 2,
   "id": "250d2eda-c949-4940-a7d8-ca7e01670b6a",
   "metadata": {},
   "outputs": [
    {
     "name": "stdin",
     "output_type": "stream",
     "text": [
      "Enter fist no :  1\n",
      "Enter Second no :  2\n"
     ]
    },
    {
     "name": "stdout",
     "output_type": "stream",
     "text": [
      "Result :  3\n"
     ]
    }
   ],
   "source": [
    "# declare\n",
    "num1=None\n",
    "num2 = None\n",
    "num3 = None\n",
    "\n",
    "# input\n",
    "num1 = input(\"Enter fist no : \")\n",
    "num2 = input(\"Enter Second no : \")\n",
    "\n",
    "# processing\n",
    "num1 = int(num1)\n",
    "num2 = int(num2)\n",
    "num3 = num1 + num2\n",
    "\n",
    "#output\n",
    "\n",
    "print(\"Result : \", num3)\n"
   ]
  },
  {
   "cell_type": "code",
   "execution_count": null,
   "id": "3742f0a0-4c72-4eaf-934c-ad530cf2b5af",
   "metadata": {},
   "outputs": [],
   "source": []
  }
 ],
 "metadata": {
  "kernelspec": {
   "display_name": "Python 3 (ipykernel)",
   "language": "python",
   "name": "python3"
  },
  "language_info": {
   "codemirror_mode": {
    "name": "ipython",
    "version": 3
   },
   "file_extension": ".py",
   "mimetype": "text/x-python",
   "name": "python",
   "nbconvert_exporter": "python",
   "pygments_lexer": "ipython3",
   "version": "3.10.4"
  }
 },
 "nbformat": 4,
 "nbformat_minor": 5
}
